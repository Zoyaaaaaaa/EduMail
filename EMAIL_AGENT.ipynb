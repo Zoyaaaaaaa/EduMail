{
  "nbformat": 4,
  "nbformat_minor": 0,
  "metadata": {
    "colab": {
      "provenance": [],
      "history_visible": true,
      "authorship_tag": "ABX9TyMy5pr+btzrpTn2xfwUh8Yh",
      "include_colab_link": true
    },
    "kernelspec": {
      "name": "python3",
      "display_name": "Python 3"
    },
    "language_info": {
      "name": "python"
    }
  },
  "cells": [
    {
      "cell_type": "markdown",
      "metadata": {
        "id": "view-in-github",
        "colab_type": "text"
      },
      "source": [
        "<a href=\"https://colab.research.google.com/github/Zoyaaaaaaa/EduMail/blob/main/EMAIL_AGENT.ipynb\" target=\"_parent\"><img src=\"https://colab.research.google.com/assets/colab-badge.svg\" alt=\"Open In Colab\"/></a>"
      ]
    },
    {
      "cell_type": "markdown",
      "source": [
        "### **Customer Email Response Workflow for EdTech Platform**  \n",
        "\n",
        "1. **Receive Email**: Capture sender details, subject, and message.  \n",
        "2. **Categorize Email**: Classify as **Sales**, **Custom Enquiry**, **Off Topic**, or **Customer Complaint** using manual or automated tools.  \n",
        "3. **Research Keywords**: Extract relevant keywords (e.g., \"pricing,\" \"API integration,\" \"refund policy\") to find accurate information.  \n",
        "4. **Draft Reply**:  \n",
        "   - **Sales/Enquiry**: Provide requested details (e.g., pricing, features).  \n",
        "   - **Complaint**: Acknowledge, apologize, and assure resolution.  \n",
        "   - **Off Topic**: Redirect politely to relevant resources.  \n",
        "5. **Review**: Ensure clarity, accuracy, and a professional tone.  \n",
        "6. **Refine**: Revise if necessary for a polished response.  "
      ],
      "metadata": {
        "id": "bo5m4wCihvKh"
      }
    },
    {
      "cell_type": "code",
      "source": [
        "!pip -q install langchain-groq duckduckgo-search\n",
        "!pip -q install -U langchain_community tiktoken langchainhub\n",
        "!pip -q install -U langchain langgraph tavily-python"
      ],
      "metadata": {
        "colab": {
          "base_uri": "https://localhost:8080/"
        },
        "id": "Uubisa7jhuGW",
        "outputId": "fb2766b0-8990-495d-a9b1-0421a29d946b"
      },
      "execution_count": 1,
      "outputs": [
        {
          "output_type": "stream",
          "name": "stdout",
          "text": [
            "\u001b[2K   \u001b[90m━━━━━━━━━━━━━━━━━━━━━━━━━━━━━━━━━━━━━━━━\u001b[0m \u001b[32m108.8/108.8 kB\u001b[0m \u001b[31m4.2 MB/s\u001b[0m eta \u001b[36m0:00:00\u001b[0m\n",
            "\u001b[2K   \u001b[90m━━━━━━━━━━━━━━━━━━━━━━━━━━━━━━━━━━━━━━━━\u001b[0m \u001b[32m3.0/3.0 MB\u001b[0m \u001b[31m24.9 MB/s\u001b[0m eta \u001b[36m0:00:00\u001b[0m\n",
            "\u001b[2K   \u001b[90m━━━━━━━━━━━━━━━━━━━━━━━━━━━━━━━━━━━━━━━━\u001b[0m \u001b[32m2.4/2.4 MB\u001b[0m \u001b[31m27.4 MB/s\u001b[0m eta \u001b[36m0:00:00\u001b[0m\n",
            "\u001b[2K   \u001b[90m━━━━━━━━━━━━━━━━━━━━━━━━━━━━━━━━━━━━━━━━\u001b[0m \u001b[32m1.2/1.2 MB\u001b[0m \u001b[31m43.2 MB/s\u001b[0m eta \u001b[36m0:00:00\u001b[0m\n",
            "\u001b[2K   \u001b[90m━━━━━━━━━━━━━━━━━━━━━━━━━━━━━━━━━━━━━━━━\u001b[0m \u001b[32m1.0/1.0 MB\u001b[0m \u001b[31m37.9 MB/s\u001b[0m eta \u001b[36m0:00:00\u001b[0m\n",
            "\u001b[2K   \u001b[90m━━━━━━━━━━━━━━━━━━━━━━━━━━━━━━━━━━━━━━━━\u001b[0m \u001b[32m409.5/409.5 kB\u001b[0m \u001b[31m25.8 MB/s\u001b[0m eta \u001b[36m0:00:00\u001b[0m\n",
            "\u001b[2K   \u001b[90m━━━━━━━━━━━━━━━━━━━━━━━━━━━━━━━━━━━━━━━━\u001b[0m \u001b[32m3.1/3.1 MB\u001b[0m \u001b[31m63.2 MB/s\u001b[0m eta \u001b[36m0:00:00\u001b[0m\n",
            "\u001b[2K   \u001b[90m━━━━━━━━━━━━━━━━━━━━━━━━━━━━━━━━━━━━━━━━\u001b[0m \u001b[32m49.5/49.5 kB\u001b[0m \u001b[31m2.9 MB/s\u001b[0m eta \u001b[36m0:00:00\u001b[0m\n",
            "\u001b[2K   \u001b[90m━━━━━━━━━━━━━━━━━━━━━━━━━━━━━━━━━━━━━━━━\u001b[0m \u001b[32m125.1/125.1 kB\u001b[0m \u001b[31m3.5 MB/s\u001b[0m eta \u001b[36m0:00:00\u001b[0m\n",
            "\u001b[?25h"
          ]
        }
      ]
    },
    {
      "cell_type": "code",
      "source": [
        "import os\n",
        "# Verify that the keys are set correctly\n",
        "print(\"GROQ_API_KEY:\", os.environ.get(\"GROQ_API_KEY\"))\n",
        "print(\"TAVILY_API_KEY:\", os.environ.get(\"TAVILY_API_KEY\"))\n"
      ],
      "metadata": {
        "id": "b03c3GnVh-w6"
      },
      "execution_count": null,
      "outputs": []
    },
    {
      "cell_type": "code",
      "source": [
        "from langchain_groq import ChatGroq\n",
        "\n",
        "GROQ_LLM = ChatGroq(\n",
        "            model=\"llama3-70b-8192\",\n",
        "        )"
      ],
      "metadata": {
        "id": "_Wu2iQXJiFYJ"
      },
      "execution_count": 4,
      "outputs": []
    },
    {
      "cell_type": "code",
      "source": [
        "from langchain_core.prompts import ChatPromptTemplate\n",
        "from langchain.prompts import PromptTemplate\n",
        "\n",
        "from langchain_core.output_parsers import StrOutputParser\n",
        "from langchain_core.output_parsers import JsonOutputParser"
      ],
      "metadata": {
        "id": "Xl_90yD1iJUl"
      },
      "execution_count": 5,
      "outputs": []
    },
    {
      "cell_type": "code",
      "source": [
        "\n",
        "def write_markdown_file(content, filename):\n",
        "  \"\"\"Writes the given content as a markdown file to the local directory.\n",
        "\n",
        "  Args:\n",
        "    content: The string content to write to the file.\n",
        "    filename: The filename to save the file as.\n",
        "  \"\"\"\n",
        "  with open(f\"{filename}.md\", \"w\") as f:\n",
        "    f.write(content)\n"
      ],
      "metadata": {
        "id": "uRUz-YAPiPPp"
      },
      "execution_count": 6,
      "outputs": []
    },
    {
      "cell_type": "markdown",
      "source": [
        "### **📧 Basic Email Processing Chains**  \n",
        "\n",
        "1. **🗂️ Categorize Email**  \n",
        "   Identify the type: **Sales**, **Custom Enquiry**, **Off Topic**, or **Customer Complaint**.  \n",
        "\n",
        "2. **🔎 Research Router**  \n",
        "   Route the query to the right resource for information retrieval.  \n",
        "\n",
        "3. **📚 Search Keywords**  \n",
        "   Extract key terms (e.g., “pricing,” “technical issue”) to guide research.  \n",
        "\n",
        "4. **✍️ Write Draft Email**  \n",
        "   Compose a professional, friendly, and concise response tailored to the query.  \n",
        "\n",
        "5. **🔄 Rewrite Router**  \n",
        "   Route draft for review or further refinement if needed.  \n",
        "\n",
        "6. **🧠 Draft Email Analysis**  \n",
        "   Analyze tone, grammar, and clarity to ensure quality.  \n",
        "\n",
        "7. **✨ Rewrite Email**  \n",
        "   Finalize the email with polished adjustments and a customer-focused tone.  \n"
      ],
      "metadata": {
        "id": "Db_h_Vygwx8Z"
      }
    },
    {
      "cell_type": "code",
      "source": [
        "# Categorize Email for EdTech Platform\n",
        "email_categorizer_prompt = PromptTemplate(\n",
        "    template=\"\"\"<|begin_of_text|><|start_header_id|>system<|end_header_id|>\n",
        "    You are an Email Categorizer Agent for an edtech platform. Your task is to analyze customer emails and categorize them based on their content.\n",
        "\n",
        "    Categorize the email into one of the following categories:\n",
        "        course_inquiry - used when someone is asking about courses, syllabus, or schedules.\n",
        "        platform_issue - used when someone is reporting a technical issue with the platform.\n",
        "        feedback - used when someone provides feedback about the platform, courses, or instructors.\n",
        "        payment_issue - used when someone is reporting problems with payments, refunds, or billing.\n",
        "        off_topic - used when the email does not relate to any of the categories above.\n",
        "\n",
        "    Respond with only the category name from the options above.\n",
        "\n",
        "    EMAIL CONTENT:\\n\\n {initial_email} \\n\\n\n",
        "    <|eot_id|><|start_header_id|>assistant<|end_header_id|>\n",
        "    \"\"\",\n",
        "    input_variables=[\"initial_email\"],\n",
        ")\n",
        "\n",
        "email_category_generator = email_categorizer_prompt | GROQ_LLM | StrOutputParser()\n",
        "\n",
        "# Example Email for EdTech\n",
        "EMAIL = \"\"\"Hi there, \\n\n",
        "I am facing issues with accessing my enrolled course on your platform. It keeps showing an error message. \\n\n",
        "\n",
        "Can you help? \\n\n",
        "Thanks,\n",
        "John\n",
        "\"\"\"\n",
        "\n",
        "# Generate the Email Category\n",
        "result = email_category_generator.invoke({\"initial_email\": EMAIL})\n",
        "print(f\"Email Category: {result}\")\n"
      ],
      "metadata": {
        "colab": {
          "base_uri": "https://localhost:8080/"
        },
        "id": "A4wV9YfqiS3S",
        "outputId": "32498c7f-51d9-4a38-ff9c-1b4daed932d0"
      },
      "execution_count": 7,
      "outputs": [
        {
          "output_type": "stream",
          "name": "stdout",
          "text": [
            "Email Category: platform_issue\n"
          ]
        }
      ]
    },
    {
      "cell_type": "code",
      "source": [
        "# Research Router for EdTech Platform\n",
        "research_router_prompt = PromptTemplate(\n",
        "    template=\"\"\"<|begin_of_text|><|start_header_id|>system<|end_header_id|>\n",
        "    You are an expert at reading customer emails for an edtech platform and deciding whether to route it for research or draft an email directly.\n",
        "\n",
        "    Use the following criteria to decide:\n",
        "    - If the email only requires a simple response or contains basic feedback (e.g., \"thank you\"), choose 'draft_email'.\n",
        "    - If the email contains technical questions, complex feedback, or issues needing detailed research, choose 'research_info'.\n",
        "\n",
        "    Return a JSON with a single key 'router_decision' and no preamble or explanation.\n",
        "\n",
        "    Email to route: INITIAL_EMAIL: {initial_email} \\n\n",
        "    EMAIL_CATEGORY: {email_category} \\n\n",
        "    <|eot_id|><|start_header_id|>assistant<|end_header_id>\"\"\",\n",
        "    input_variables=[\"initial_email\", \"email_category\"],\n",
        ")\n",
        "\n",
        "research_router = research_router_prompt | GROQ_LLM | JsonOutputParser()\n",
        "\n",
        "email_category = \"platform_issue\"  # Example from Categorization\n",
        "research_router_result = research_router.invoke({\"initial_email\": EMAIL, \"email_category\": email_category})\n",
        "print(f\"Research Router Decision: {research_router_result}\")\n"
      ],
      "metadata": {
        "colab": {
          "base_uri": "https://localhost:8080/"
        },
        "id": "4h2itKq5iY9Q",
        "outputId": "fb91c18c-3f7c-4cf0-a2f5-112352fa31e6"
      },
      "execution_count": 8,
      "outputs": [
        {
          "output_type": "stream",
          "name": "stdout",
          "text": [
            "Research Router Decision: {'router_decision': 'research_info'}\n"
          ]
        }
      ]
    },
    {
      "cell_type": "code",
      "source": [
        "# Search Keywords for EdTech Platform\n",
        "search_keyword_prompt = PromptTemplate(\n",
        "    template=\"\"\"<|begin_of_text|><|start_header_id|>system<|end_header_id|>\n",
        "    You are an expert at identifying search keywords for an edtech platform.\n",
        "\n",
        "    Given the INITIAL_EMAIL and EMAIL_CATEGORY, determine the best 3 keywords to help draft a response or find relevant information.\n",
        "\n",
        "    Return a JSON with a single key 'keywords' containing no more than 3 keywords.\n",
        "\n",
        "    INITIAL_EMAIL: {initial_email} \\n\n",
        "    EMAIL_CATEGORY: {email_category} \\n\n",
        "    <|eot_id|><|start_header_id|>assistant<|end_header_id>\"\"\",\n",
        "    input_variables=[\"initial_email\", \"email_category\"],\n",
        ")\n",
        "\n",
        "search_keyword_chain = search_keyword_prompt | GROQ_LLM | JsonOutputParser()\n",
        "\n",
        "search_keyword_result = search_keyword_chain.invoke({\"initial_email\": EMAIL, \"email_category\": email_category})\n",
        "print(f\"Search Keywords: {search_keyword_result}\")\n"
      ],
      "metadata": {
        "colab": {
          "base_uri": "https://localhost:8080/"
        },
        "id": "3-q6nqNjifOn",
        "outputId": "037c856d-8b61-4700-b64c-ac90bac56c9c"
      },
      "execution_count": 9,
      "outputs": [
        {
          "output_type": "stream",
          "name": "stdout",
          "text": [
            "Search Keywords: {'keywords': ['course access', 'error message', 'platform issue']}\n"
          ]
        }
      ]
    },
    {
      "cell_type": "code",
      "source": [
        "\n",
        "from langchain_core.output_parsers.json import OutputParserException\n",
        "import json\n",
        "\n",
        "# Define the prompt template\n",
        "draft_writer_prompt = PromptTemplate(\n",
        "    template=\"\"\"<|begin_of_text|><|start_header_id|>system<|end_header_id|>\n",
        "    You are the Email Writer Agent for an EdTech platform. Write a helpful email in a thoughtful and friendly way based on the INITIAL_EMAIL, EMAIL_CATEGORY, and RESEARCH_INFO.\n",
        "\n",
        "    Follow these guidelines:\n",
        "    - For 'course_enquiry': Provide information about the course syllabus, prerequisites, and benefits.\n",
        "    - For 'technical_issue': Acknowledge the issue and provide clear steps to resolve it.\n",
        "    - For 'feedback': Acknowledge and thank the user for their feedback.\n",
        "    - For 'pricing_query': Provide detailed pricing or fee structures.\n",
        "    - For 'general_query': Respond appropriately based on the email content.\n",
        "\n",
        "    Always end the email with a polite sign-off and your role.\n",
        "\n",
        "    INITIAL_EMAIL: {initial_email} \\n\n",
        "    EMAIL_CATEGORY: {email_category} \\n\n",
        "    RESEARCH_INFO: {research_info} \\n\n",
        "\n",
        "    The output should be strictly in JSON format:\n",
        "    {{\n",
        "        \"email_content\": \"<Your email response here>\"\n",
        "    }}\n",
        "    <|eot_id|>\n",
        "    <|start_header_id|>assistant<|end_header_id|>\n",
        "    \"\"\",\n",
        "    input_variables=[\"initial_email\", \"email_category\", \"research_info\"],\n",
        ")\n",
        "\n",
        "# Chain combining the prompt, LLM, and parser\n",
        "draft_writer_chain = draft_writer_prompt | GROQ_LLM | JsonOutputParser()\n",
        "\n",
        "# Define inputs\n",
        "EMAIL = \"Hello, I am having trouble accessing the platform after logging in. Please assist.\"\n",
        "email_category = \"technical_issue\"\n",
        "research_info = None\n",
        "\n",
        "# Handle execution\n",
        "try:\n",
        "    # Invoke the chain\n",
        "    response = draft_writer_chain.invoke({\n",
        "        \"initial_email\": EMAIL,\n",
        "        \"email_category\": email_category,\n",
        "        \"research_info\": research_info or \"No additional research information available.\",\n",
        "    })\n",
        "    # Parse and print the output\n",
        "    print(\"Draft Email Response:\", response[\"email_content\"])\n",
        "except OutputParserException as e:\n",
        "    # Handle parsing issues\n",
        "    print(f\"Error parsing output: {e}\")\n",
        "    print(\"LLM Output (raw):\", e.llm_output)\n",
        "except Exception as ex:\n",
        "    # Handle other exceptions\n",
        "    print(f\"An error occurred: {ex}\")\n"
      ],
      "metadata": {
        "colab": {
          "base_uri": "https://localhost:8080/"
        },
        "id": "bmtUBxV7i2Si",
        "outputId": "7ea5a6e3-6b6c-4429-e98e-0080736eba9b",
        "collapsed": true
      },
      "execution_count": 13,
      "outputs": [
        {
          "output_type": "stream",
          "name": "stdout",
          "text": [
            "Draft Email Response: Hi there,\r\n",
            "\r\n",
            "Sorry to hear that you're having trouble accessing the platform after logging in. I'm here to help you resolve this issue.\r\n",
            "\r\n",
            "To assist you better, could you please try the following steps?\r\n",
            "\r\n",
            "1. Check if your internet connection is stable.\r\n",
            "2. Ensure that you're using the correct login credentials.\r\n",
            "3. Clear your browser's cache and cookies.\r\n",
            "4. Try accessing the platform from a different browser or device.\r\n",
            "\r\n",
            "If the issue persists, please provide me with more details such as the error message you're seeing or any other relevant information. I'll be happy to help you troubleshoot the issue further.\r\n",
            "\r\n",
            "Looking forward to hearing back from you.\r\n",
            "\r\n",
            "Best regards,\r\n",
            "Email Writer Agent\n"
          ]
        }
      ]
    },
    {
      "cell_type": "code",
      "source": [
        "rewrite_router_prompt = PromptTemplate(\n",
        "    template=\"\"\"<|begin_of_text|><|start_header_id|>system<|end_header_id|>\n",
        "    Decide if a draft email for an EdTech platform needs rewriting. Use the following criteria:\n",
        "    - Does it address the query clearly and completely?\n",
        "    - Is it professional and aligned with EdTech standards?\n",
        "\n",
        "    Return 'rewrite' or 'no_rewrite' in a JSON with a single key 'router_decision'.\n",
        "\n",
        "    INITIAL_EMAIL: {initial_email} \\n\n",
        "    EMAIL_CATEGORY: {email_category} \\n\n",
        "    DRAFT_EMAIL: {draft_email} \\n\n",
        "    <|eot_id|>\n",
        "    <|start_header_id|>assistant<|end_header_id|>\n",
        "    \"\"\",\n",
        "    input_variables=[\"initial_email\", \"email_category\", \"draft_email\"],\n",
        ")\n",
        "rewrite_router = rewrite_router_prompt | GROQ_LLM | JsonOutputParser()\n",
        "\n",
        "email_category = 'platform_issue'\n",
        "draft_email = \"Yo we can't help you, best regards Sarah\"\n",
        "\n",
        "print(rewrite_router.invoke({\"initial_email\": EMAIL, \"email_category\": email_category, \"draft_email\": draft_email}))\n"
      ],
      "metadata": {
        "colab": {
          "base_uri": "https://localhost:8080/"
        },
        "id": "d27-1SMZjLUs",
        "outputId": "d0472549-3575-4d2a-c27e-37153a6601ae"
      },
      "execution_count": 14,
      "outputs": [
        {
          "output_type": "stream",
          "name": "stdout",
          "text": [
            "{'router_decision': 'rewrite'}\n"
          ]
        }
      ]
    },
    {
      "cell_type": "code",
      "source": [
        "## Draft Email Analysis\n",
        "draft_analysis_prompt = PromptTemplate(\n",
        "    template=\"\"\"<|begin_of_text|><|start_header_id|>system<|end_header_id|>\n",
        "    Analyze the draft email for an EdTech platform query. Provide constructive feedback:\n",
        "    - Does the draft address the query effectively?\n",
        "    - Suggest improvements to make the email more professional or informative.\n",
        "\n",
        "    Return a JSON with a single key 'draft_analysis'.\n",
        "\n",
        "    INITIAL_EMAIL: {initial_email} \\n\n",
        "    EMAIL_CATEGORY: {email_category} \\n\n",
        "    RESEARCH_INFO: {research_info} \\n\n",
        "    DRAFT_EMAIL: {draft_email} \\n\n",
        "    <|eot_id|>\n",
        "    <|start_header_id|>assistant<|end_header_id|>\n",
        "    \"\"\",\n",
        "    input_variables=[\"initial_email\", \"email_category\", \"research_info\", \"draft_email\"],\n",
        ")\n",
        "\n",
        "\n",
        "\n",
        "draft_analysis_chain = draft_analysis_prompt | GROQ_LLM | JsonOutputParser()\n",
        "\n",
        "email_category = 'customer_feedback'\n",
        "research_info = None\n",
        "draft_email = \"Yo we can't help you, best regards Sarah\"\n",
        "email_analysis = draft_analysis_chain.invoke({\n",
        "    \"initial_email\": EMAIL,\n",
        "    \"email_category\": email_category,\n",
        "    \"research_info\": research_info,\n",
        "    \"draft_email\": draft_email\n",
        "})\n",
        "\n",
        "print(email_analysis)"
      ],
      "metadata": {
        "colab": {
          "base_uri": "https://localhost:8080/"
        },
        "id": "YfCC0hHzjN6H",
        "outputId": "5d8a0eba-83a3-4d71-ea30-92682f8609ac"
      },
      "execution_count": 15,
      "outputs": [
        {
          "output_type": "stream",
          "name": "stdout",
          "text": [
            "{'draft_analysis': {'effectiveness': 'ineffective', 'feedback': \"The draft email does not address the customer's query effectively. It appears to be dismissive and unhelpful. A more professional and informative response would be to acknowledge the customer's issue, apologize for the inconvenience, and offer potential solutions or request more information to troubleshoot the problem.\", 'suggested_improvements': [\"Start with a polite greeting and acknowledge the customer's issue.\", 'Apologize for the inconvenience caused.', 'Offer a potential solution or request more information to troubleshoot the problem.', 'End with a professional closing and signature.', 'Avoid using informal language and tone.', \"Consider adding a reference number or ticket ID for the customer's query.\"], 'improved_draft': \"Dear [Customer Name], Sorry to hear that you're having trouble accessing the platform after logging in. Could you please provide more details about the issue you're experiencing, such as any error messages you've encountered? We'll do our best to assist you. Best regards, Sarah.\"}}\n"
          ]
        }
      ]
    },
    {
      "cell_type": "code",
      "source": [
        "rewrite_email_prompt = PromptTemplate(\n",
        "   template = \"\"\"\n",
        "<|begin_of_text|><|start_header_id|>system<|end_header_id|>\n",
        "    You are the Final Email Agent for an EdTech platform. Read the email analysis below from the QC Agent \\\n",
        "    and use it to rewrite and improve the draft_email to create a final, professional response that aligns with the values of the platform.\n",
        "\n",
        "    You must never make up or add information that hasn't been provided by the research_info or in the initial_email.\n",
        "\n",
        "    Your response should be clear, polite, and informative, reflecting the tone and standards expected of an EdTech company. Please focus on delivering a helpful, thoughtful, and professional reply to the customer.\n",
        "\n",
        "    Return the final email as JSON with a single key 'final_email' which is a string and no preamble or explanation.\n",
        "\n",
        "<|eot_id|><|start_header_id|>user<|end_header_id|>\n",
        "    EMAIL_CATEGORY: {email_category} \\n\\n\n",
        "    RESEARCH_INFO: {research_info} \\n\\n\n",
        "    DRAFT_EMAIL: {draft_email} \\n\\n\n",
        "    DRAFT_EMAIL_FEEDBACK: {email_analysis} \\n\\n\n",
        "<|eot_id|><|start_header_id|>\"\"\"\n",
        "\n",
        ")\n",
        "\n",
        "rewrite_chain = rewrite_email_prompt | GROQ_LLM | JsonOutputParser()\n",
        "\n",
        "email_category = 'platform_issue'\n",
        "research_info = None\n",
        "draft_email = \"Yo we can't help you, best regards Sarah\"\n",
        "\n",
        "final_email = rewrite_chain.invoke({\"initial_email\": EMAIL,\n",
        "                                 \"email_category\":email_category,\n",
        "                                 \"research_info\":research_info,\n",
        "                                 \"draft_email\": draft_email,\n",
        "                                \"email_analysis\":email_analysis})\n",
        "\n",
        "final_email['final_email']"
      ],
      "metadata": {
        "colab": {
          "base_uri": "https://localhost:8080/",
          "height": 72
        },
        "id": "CVxBMVkeoZDM",
        "outputId": "9356bbd1-45ac-4999-b410-ba012cae279e"
      },
      "execution_count": 16,
      "outputs": [
        {
          "output_type": "execute_result",
          "data": {
            "text/plain": [
              "\"Dear Customer, Sorry to hear that you're having trouble accessing the platform after logging in. Could you please provide more details about the issue you're experiencing, such as any error messages you've encountered? We'll do our best to assist you. Best regards, Sarah.\""
            ],
            "application/vnd.google.colaboratory.intrinsic+json": {
              "type": "string"
            }
          },
          "metadata": {},
          "execution_count": 16
        }
      ]
    },
    {
      "cell_type": "code",
      "source": [
        "### Search\n",
        "from langchain_community.tools.tavily_search import TavilySearchResults\n",
        "web_search_tool = TavilySearchResults(k=1)"
      ],
      "metadata": {
        "id": "KrnhHdAApQvR"
      },
      "execution_count": 17,
      "outputs": []
    },
    {
      "cell_type": "code",
      "source": [
        "from langchain.schema import Document\n",
        "from langgraph.graph import END, StateGraph"
      ],
      "metadata": {
        "id": "rQMvFxvXpUTx"
      },
      "execution_count": 18,
      "outputs": []
    },
    {
      "cell_type": "code",
      "source": [
        "from typing_extensions import TypedDict\n",
        "from typing import List, Dict\n",
        "\n",
        "class GraphState(TypedDict):\n",
        "    \"\"\"\n",
        "    Represents the state of our email handling process on an EdTech platform.\n",
        "\n",
        "    Attributes:\n",
        "        initial_email: The user's original email inquiry or request.\n",
        "        email_category: The category of the email, e.g., 'customer_feedback', 'technical_issue', etc.\n",
        "        draft_email: The initial draft response generated for the email.\n",
        "        final_email: The final, improved email response ready for sending.\n",
        "        research_info: A list of relevant documents, knowledge base, or research gathered to inform the email reply.\n",
        "        info_needed: A boolean indicating if further research or information gathering is required.\n",
        "        num_steps: The number of steps involved in processing the email (e.g., initial draft, review, finalization).\n",
        "        draft_email_feedback: A dictionary containing feedback about the draft email (e.g., tone, clarity).\n",
        "    \"\"\"\n",
        "    initial_email: str  # The original email received from the user.\n",
        "    email_category: str  # Category like 'customer_feedback', 'course_enquiry', etc.\n",
        "    draft_email: str  # The initial draft response created by the system.\n",
        "    final_email: str  # The improved email response after review.\n",
        "    research_info: List[str]  # List of documents or context used for crafting the response.\n",
        "    info_needed: bool  # Whether additional research or details are needed.\n",
        "    num_steps: int  # Number of steps in the email response process (e.g., drafting, feedback, finalization).\n",
        "    draft_email_feedback: Dict  # Feedback on the draft email (e.g., improvement suggestions, tone analysis).\n"
      ],
      "metadata": {
        "id": "CdtsdEOhpfE-"
      },
      "execution_count": 19,
      "outputs": []
    },
    {
      "cell_type": "code",
      "source": [
        "def categorize_email(state):\n",
        "    \"\"\"take the initial email and categorize it\"\"\"\n",
        "    print(\"---CATEGORIZING INITIAL EMAIL---\")\n",
        "    initial_email = state['initial_email']\n",
        "    num_steps = int(state['num_steps'])\n",
        "    num_steps += 1\n",
        "\n",
        "    email_category = email_category_generator.invoke({\"initial_email\": initial_email})\n",
        "    print(email_category)\n",
        "    # save to local disk\n",
        "    write_markdown_file(email_category, \"email_category\")\n",
        "\n",
        "    return {\"email_category\": email_category, \"num_steps\":num_steps}"
      ],
      "metadata": {
        "id": "UsHoutc1p4oQ"
      },
      "execution_count": 20,
      "outputs": []
    },
    {
      "cell_type": "code",
      "source": [
        "\n",
        "def research_info_search(state):\n",
        "\n",
        "    print(\"---RESEARCH INFO SEARCHING---\")\n",
        "    initial_email = state[\"initial_email\"]\n",
        "    email_category = state[\"email_category\"]\n",
        "    research_info = state[\"research_info\"]\n",
        "    num_steps = state['num_steps']\n",
        "    num_steps += 1\n",
        "\n",
        "    # Web search\n",
        "    keywords = search_keyword_chain.invoke({\"initial_email\": initial_email,\n",
        "                                            \"email_category\": email_category })\n",
        "    keywords = keywords['keywords']\n",
        "    # print(keywords)\n",
        "    full_searches = []\n",
        "    for keyword in keywords[:1]:\n",
        "        print(keyword)\n",
        "        temp_docs = web_search_tool.invoke({\"query\": keyword})\n",
        "        web_results = \"\\n\".join([d[\"content\"] for d in temp_docs])\n",
        "        web_results = Document(page_content=web_results)\n",
        "        if full_searches is not None:\n",
        "            full_searches.append(web_results)\n",
        "        else:\n",
        "            full_searches = [web_results]\n",
        "    print(full_searches)\n",
        "    print(type(full_searches))\n",
        "    # write_markdown_file(full_searches, \"research_info\")\n",
        "    return {\"research_info\": full_searches, \"num_steps\":num_steps}"
      ],
      "metadata": {
        "id": "PrwqoVpNp8Nj"
      },
      "execution_count": 21,
      "outputs": []
    },
    {
      "cell_type": "code",
      "source": [
        "def draft_email_writer(state):\n",
        "    print(\"---DRAFT EMAIL WRITER---\")\n",
        "    ## Get the state\n",
        "    initial_email = state[\"initial_email\"]\n",
        "    email_category = state[\"email_category\"]\n",
        "    research_info = state[\"research_info\"]\n",
        "    num_steps = state['num_steps']\n",
        "    num_steps += 1\n",
        "\n",
        "    # Generate draft email\n",
        "    draft_email = draft_writer_chain.invoke({\n",
        "        \"initial_email\": initial_email,\n",
        "        \"email_category\": email_category,\n",
        "        \"research_info\": research_info\n",
        "    })\n",
        "\n",
        "    # Debug: Print the full draft_email output\n",
        "    print(\"Draft Email Output:\", draft_email)\n",
        "    print(\"Type of draft_email:\", type(draft_email))\n",
        "\n",
        "    # Extract email content using the correct key\n",
        "    email_draft = draft_email['email_content']\n",
        "\n",
        "    write_markdown_file(email_draft, \"draft_email\")\n",
        "\n",
        "    return {\"draft_email\": email_draft, \"num_steps\": num_steps}"
      ],
      "metadata": {
        "id": "TJbMf9PrqBTY"
      },
      "execution_count": 55,
      "outputs": []
    },
    {
      "cell_type": "code",
      "source": [
        "def analyze_draft_email(state):\n",
        "    print(\"---DRAFT EMAIL ANALYZER---\")\n",
        "    ## Get the state\n",
        "    initial_email = state[\"initial_email\"]\n",
        "    email_category = state[\"email_category\"]\n",
        "    draft_email = state[\"draft_email\"]\n",
        "    research_info = state[\"research_info\"]\n",
        "    num_steps = state['num_steps']\n",
        "    num_steps += 1\n",
        "\n",
        "    # Generate draft email\n",
        "    draft_email_feedback = draft_analysis_chain.invoke({\"initial_email\": initial_email,\n",
        "                                                \"email_category\": email_category,\n",
        "                                                \"research_info\":research_info,\n",
        "                                                \"draft_email\":draft_email}\n",
        "                                               )\n",
        "    # print(draft_email)\n",
        "    # print(type(draft_email))\n",
        "\n",
        "    write_markdown_file(str(draft_email_feedback), \"draft_email_feedback\")\n",
        "    return {\"draft_email_feedback\": draft_email_feedback, \"num_steps\":num_steps}"
      ],
      "metadata": {
        "id": "eb7ubkiHqE55"
      },
      "execution_count": 23,
      "outputs": []
    },
    {
      "cell_type": "code",
      "source": [
        "def rewrite_email(state):\n",
        "    print(\"---ReWRITE EMAIL ---\")\n",
        "    ## Get the state\n",
        "    initial_email = state[\"initial_email\"]\n",
        "    email_category = state[\"email_category\"]\n",
        "    draft_email = state[\"draft_email\"]\n",
        "    research_info = state[\"research_info\"]\n",
        "    draft_email_feedback = state[\"draft_email_feedback\"]\n",
        "    num_steps = state['num_steps']\n",
        "    num_steps += 1\n",
        "\n",
        "    # Generate draft email\n",
        "    final_email = rewrite_chain.invoke({\"initial_email\": initial_email,\n",
        "                                                \"email_category\": email_category,\n",
        "                                                \"research_info\":research_info,\n",
        "                                                \"draft_email\":draft_email,\n",
        "                                                \"email_analysis\": draft_email_feedback}\n",
        "                                               )\n",
        "\n",
        "    write_markdown_file(str(final_email), \"final_email\")\n",
        "    return {\"final_email\": final_email['final_email'], \"num_steps\":num_steps}"
      ],
      "metadata": {
        "id": "FzSwWk_eqIGh"
      },
      "execution_count": 24,
      "outputs": []
    },
    {
      "cell_type": "code",
      "source": [
        "def no_rewrite(state):\n",
        "    print(\"---NO REWRITE EMAIL ---\")\n",
        "    ## Get the state\n",
        "    draft_email = state[\"draft_email\"]\n",
        "    num_steps = state['num_steps']\n",
        "    num_steps += 1\n",
        "\n",
        "    write_markdown_file(str(draft_email), \"final_email\")\n",
        "    return {\"final_email\": draft_email, \"num_steps\":num_steps}"
      ],
      "metadata": {
        "id": "Mbv8VwQiqMDb"
      },
      "execution_count": 25,
      "outputs": []
    },
    {
      "cell_type": "code",
      "source": [
        "def state_printer(state):\n",
        "    \"\"\"print the state\"\"\"\n",
        "    print(\"---STATE PRINTER---\")\n",
        "    print(f\"Initial Email: {state['initial_email']} \\n\" )\n",
        "    print(f\"Email Category: {state['email_category']} \\n\")\n",
        "    print(f\"Draft Email: {state['draft_email']} \\n\" )\n",
        "    print(f\"Final Email: {state['final_email']} \\n\" )\n",
        "    print(f\"Research Info: {state['research_info']} \\n\")\n",
        "    print(f\"Info Needed: {state['info_needed']} \\n\")\n",
        "    print(f\"Num Steps: {state['num_steps']} \\n\")\n",
        "    return"
      ],
      "metadata": {
        "id": "UQWepK2VqPN5"
      },
      "execution_count": 26,
      "outputs": []
    },
    {
      "cell_type": "markdown",
      "source": [
        "# **EDGES**"
      ],
      "metadata": {
        "id": "Jj-M43mDqeNd"
      }
    },
    {
      "cell_type": "code",
      "source": [
        "def route_to_research(state):\n",
        "    \"\"\"\n",
        "    Route email to web search or not.\n",
        "    Args:\n",
        "        state (dict): The current graph state\n",
        "    Returns:\n",
        "        str: Next node to call\n",
        "    \"\"\"\n",
        "\n",
        "    print(\"---ROUTE TO RESEARCH---\")\n",
        "    initial_email = state[\"initial_email\"]\n",
        "    email_category = state[\"email_category\"]\n",
        "\n",
        "\n",
        "    router = research_router.invoke({\"initial_email\": initial_email,\"email_category\":email_category })\n",
        "    print(router)\n",
        "    # print(type(router))\n",
        "    print(router['router_decision'])\n",
        "    if router['router_decision'] == 'research_info':\n",
        "        print(\"---ROUTE EMAIL TO RESEARCH INFO---\")\n",
        "        return \"research_info\"\n",
        "    elif router['router_decision'] == 'draft_email':\n",
        "        print(\"---ROUTE EMAIL TO DRAFT EMAIL---\")\n",
        "        return \"draft_email\""
      ],
      "metadata": {
        "id": "n70M-fyVqdl_"
      },
      "execution_count": 27,
      "outputs": []
    },
    {
      "cell_type": "code",
      "source": [
        "def route_to_rewrite(state):\n",
        "\n",
        "    print(\"---ROUTE TO REWRITE---\")\n",
        "    initial_email = state[\"initial_email\"]\n",
        "    email_category = state[\"email_category\"]\n",
        "    draft_email = state[\"draft_email\"]\n",
        "    research_info = state[\"research_info\"]\n",
        "\n",
        "    # draft_email = \"Yo we can't help you, best regards Sarah\"\n",
        "\n",
        "    router = rewrite_router.invoke({\"initial_email\": initial_email,\n",
        "                                     \"email_category\":email_category,\n",
        "                                     \"draft_email\":draft_email}\n",
        "                                   )\n",
        "    print(router)\n",
        "    print(router['router_decision'])\n",
        "    if router['router_decision'] == 'rewrite':\n",
        "        print(\"---ROUTE TO ANALYSIS - REWRITE---\")\n",
        "        return \"rewrite\"\n",
        "    elif router['router_decision'] == 'no_rewrite':\n",
        "        print(\"---ROUTE EMAIL TO FINAL EMAIL---\")\n",
        "        return \"no_rewrite\""
      ],
      "metadata": {
        "id": "CugDwerEqmMl"
      },
      "execution_count": 28,
      "outputs": []
    },
    {
      "cell_type": "code",
      "source": [
        "\n",
        "workflow = StateGraph(GraphState)\n",
        "\n",
        "# Define the nodes\n",
        "workflow.add_node(\"categorize_email\", categorize_email) # categorize email\n",
        "workflow.add_node(\"research_info_search\", research_info_search) # web search\n",
        "workflow.add_node(\"state_printer\", state_printer)\n",
        "workflow.add_node(\"draft_email_writer\", draft_email_writer)\n",
        "workflow.add_node(\"analyze_draft_email\", analyze_draft_email)\n",
        "workflow.add_node(\"rewrite_email\", rewrite_email)\n",
        "workflow.add_node(\"no_rewrite\", no_rewrite)\n",
        "\n"
      ],
      "metadata": {
        "colab": {
          "base_uri": "https://localhost:8080/"
        },
        "id": "4EDCtWA8qsXx",
        "outputId": "3ce4cbad-b0a2-4dc6-ae15-5df87e034565"
      },
      "execution_count": 29,
      "outputs": [
        {
          "output_type": "execute_result",
          "data": {
            "text/plain": [
              "<langgraph.graph.state.StateGraph at 0x78108a6d5fc0>"
            ]
          },
          "metadata": {},
          "execution_count": 29
        }
      ]
    },
    {
      "cell_type": "code",
      "source": [
        "workflow.set_entry_point(\"categorize_email\")\n",
        "\n",
        "workflow.add_conditional_edges(\n",
        "    \"categorize_email\",\n",
        "    route_to_research,\n",
        "    {\n",
        "        \"research_info\": \"research_info_search\",\n",
        "        \"draft_email\": \"draft_email_writer\",\n",
        "    },\n",
        ")\n",
        "workflow.add_edge(\"research_info_search\", \"draft_email_writer\")\n",
        "\n",
        "\n",
        "workflow.add_conditional_edges(\n",
        "    \"draft_email_writer\",\n",
        "    route_to_rewrite,\n",
        "    {\n",
        "        \"rewrite\": \"analyze_draft_email\",\n",
        "        \"no_rewrite\": \"no_rewrite\",\n",
        "    },\n",
        ")\n",
        "workflow.add_edge(\"analyze_draft_email\", \"rewrite_email\")\n",
        "workflow.add_edge(\"no_rewrite\", \"state_printer\")\n",
        "workflow.add_edge(\"rewrite_email\", \"state_printer\")\n",
        "workflow.add_edge(\"state_printer\", END)"
      ],
      "metadata": {
        "colab": {
          "base_uri": "https://localhost:8080/"
        },
        "id": "fSAQi66DqyYt",
        "outputId": "f562966e-8267-48b9-bcf2-4adc04ce32f5"
      },
      "execution_count": 30,
      "outputs": [
        {
          "output_type": "execute_result",
          "data": {
            "text/plain": [
              "<langgraph.graph.state.StateGraph at 0x78108a6d5fc0>"
            ]
          },
          "metadata": {},
          "execution_count": 30
        }
      ]
    },
    {
      "cell_type": "code",
      "source": [
        "# Compile\n",
        "app = workflow.compile()"
      ],
      "metadata": {
        "id": "r77pFd4Eq2vr"
      },
      "execution_count": 31,
      "outputs": []
    },
    {
      "cell_type": "code",
      "source": [
        "# EMAIL = \"\"\"HI there, \\n\n",
        "# I am emailing to say that the recent course on Data Science had a lot of challenges in terms of accessibility. \\n\n",
        "# I had trouble accessing some of the course materials, which made it difficult to complete the assignments. Could you provide more information about how the course will be made more accessible in the future?\n",
        "\n",
        "# Also, can you clarify what the typical pace is for this course, as I would like to ensure I can keep up?\n",
        "\n",
        "# I hope this feedback helps improve the course for future students.\n",
        "\n",
        "# Thanks,\n",
        "# George\n",
        "# \"\"\"\n",
        "EMAIL = \"\"\"HI there, \\n\n",
        "I am emailing to find out the current price of Bitcoin. \\n\n",
        "\n",
        "Can you please help me/\n",
        "\n",
        "Thanks,\n",
        "John\n",
        "\"\"\""
      ],
      "metadata": {
        "id": "IAD3ySajrFYR"
      },
      "execution_count": 53,
      "outputs": []
    },
    {
      "cell_type": "code",
      "source": [
        "# Run the agent\n",
        "inputs = {\"initial_email\": EMAIL, \"research_info\": None, \"num_steps\": 0}\n",
        "\n",
        "for output in app.stream(inputs):\n",
        "    print(\"Output:\", output)\n",
        "    email_draft = output.get('email_draft', \"No draft email generated.\")\n",
        "    print(f\"Draft Email: {email_draft}\")\n"
      ],
      "metadata": {
        "id": "s000nsEarLhW",
        "collapsed": true
      },
      "execution_count": null,
      "outputs": []
    }
  ]
}